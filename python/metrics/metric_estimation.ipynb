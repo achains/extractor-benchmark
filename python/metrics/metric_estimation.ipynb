{
 "cells": [
  {
   "cell_type": "code",
   "execution_count": 2,
   "id": "59e34325",
   "metadata": {},
   "outputs": [
    {
     "name": "stdout",
     "output_type": "stream",
     "text": [
      "Jupyter environment detected. Enabling Open3D WebVisualizer.\n",
      "[Open3D INFO] WebRTC GUI backend enabled.\n",
      "[Open3D INFO] WebRTCWindowSystem: HTTP handshake server disabled.\n"
     ]
    }
   ],
   "source": [
    "import os \n",
    "import shutil\n",
    "import sys \n",
    "import pathlib\n",
    "import subprocess\n",
    "import numpy as np\n",
    "import cv2\n",
    "import open3d as o3d\n",
    "import docker\n",
    "import abc\n",
    "import evops\n",
    "import tqdm\n",
    "import matplotlib.pyplot as plt\n",
    "\n",
    "from typing import Collection\n",
    "from docker.types import Mount\n",
    "from pathlib import Path\n",
    "from shutil import rmtree\n",
    "from evops import metrics as evops_metrics"
   ]
  },
  {
   "cell_type": "code",
   "execution_count": 3,
   "id": "be0a77c2",
   "metadata": {},
   "outputs": [],
   "source": [
    "class Algorithm(abc.ABC):\n",
    "    @abc.abstractmethod\n",
    "    def __init__(self, container_name: str, cfg_path: Path, pcd_path: Path, **kwargs):\n",
    "        self.container_name = container_name\n",
    "        self.cfg_path = cfg_path\n",
    "        self.pcd_path = pcd_path\n",
    "        self._alg_input_dir = Path(\"alg_input\")\n",
    "        self._alg_output_dir = Path(\"output\")\n",
    "        self._alg_artifact_name = None\n",
    "        self._cfg = None\n",
    "        self._parameter_list = ()\n",
    "\n",
    "    @abc.abstractmethod\n",
    "    def _preprocess_input(self) -> Collection[str]:\n",
    "        pass\n",
    "\n",
    "    @abc.abstractmethod\n",
    "    def _output_to_labels(self, output_path: Path) -> np.ndarray:\n",
    "        pass\n",
    "\n",
    "    @abc.abstractmethod\n",
    "    def _clear_artifacts(self):\n",
    "        pass\n",
    "\n",
    "    def _evaluate_algorithm(self, input_parameters: Collection[str]) -> Path:\n",
    "        client = docker.from_env()\n",
    "        input_mount = Mount(\n",
    "            target=\"/app/build/input\",\n",
    "            source=str(self._alg_input_dir.absolute()),\n",
    "            type=\"bind\",\n",
    "        )\n",
    "        output_mount = Mount(\n",
    "            target=\"/app/build/output\",\n",
    "            source=str(self._alg_output_dir.absolute()),\n",
    "            type=\"bind\",\n",
    "        )\n",
    "\n",
    "        client.containers.run(\n",
    "            self.container_name,\n",
    "            \" \".join(input_parameters),\n",
    "            mounts=[input_mount, output_mount],\n",
    "            auto_remove=True\n",
    "        )\n",
    "\n",
    "        return self._alg_output_dir / self._alg_artifact_name\n",
    "\n",
    "    def run(self) -> np.ndarray:\n",
    "\n",
    "        if self._alg_input_dir.exists():\n",
    "            rmtree(self._alg_input_dir)\n",
    "        os.mkdir(self._alg_input_dir)\n",
    "\n",
    "        parameter_list = self._preprocess_input()\n",
    "\n",
    "        if os.path.exists(self._alg_output_dir):\n",
    "            rmtree(self._alg_output_dir)\n",
    "        os.mkdir(self._alg_output_dir)\n",
    "\n",
    "        try:\n",
    "            output_path = self._evaluate_algorithm(parameter_list)\n",
    "            labels = self._output_to_labels(output_path)\n",
    "        finally:\n",
    "            self._clear_artifacts()\n",
    "\n",
    "        return labels"
   ]
  },
  {
   "cell_type": "markdown",
   "id": "6ad9ba5d",
   "metadata": {},
   "source": [
    "## PEAC Runner"
   ]
  },
  {
   "cell_type": "code",
   "execution_count": 4,
   "id": "f9bf3fc6",
   "metadata": {},
   "outputs": [],
   "source": [
    "# class PEAC(Algorithm):\n",
    "#     def __init__(\n",
    "#         self,\n",
    "#         container_name: str,\n",
    "#         pcd_path: Path,\n",
    "#         config_path: Path,\n",
    "#         intrinsics_path: Path,\n",
    "#         camera_shape: tuple = (480, 640),\n",
    "#     ):\n",
    "#         self.container_name = container_name\n",
    "#         self.cfg_path = config_path\n",
    "#         self.intrinsics_path = intrinsics_path\n",
    "#         self.pcd_path = pcd_path\n",
    "#         self.pcd_name = Path(self.pcd_path).stem\n",
    "#         self.camera_height = camera_shape[0]\n",
    "#         self.camera_width = camera_shape[1]\n",
    "#         self._cfg = None\n",
    "#         self._alg_input_dir = Path(\"input\")\n",
    "#         self._alg_output_dir = Path(\"output\")\n",
    "#         self._alg_artifact_name = Path(self.pcd_name + \"/\" + self.pcd_name + \".pcd\")\n",
    "\n",
    "#     def _preprocess_input(self) -> Collection[str]:\n",
    "#         pcd_name = self.__preprocess_point_cloud().name\n",
    "\n",
    "#         return [pcd_name, self.cfg_path]\n",
    "\n",
    "#     def _evaluate_algorithm(self, input_parameters: Collection[str]) -> Path:\n",
    "#         os.mkdir(self._alg_output_dir / self.pcd_name)\n",
    "#         return super()._evaluate_algorithm(input_parameters)\n",
    "\n",
    "#     def __preprocess_point_cloud(self) -> Path:\n",
    "#         pcd_path = self._alg_input_dir / (self.pcd_path.stem + \".pcd\")\n",
    "        \n",
    "#         self._image_to_cloud(str(self.pcd_path))\n",
    "#         pcd = o3d.io.read_point_cloud(str(self.pcd_path))\n",
    "\n",
    "#         cloud = o3d.geometry.PointCloud()\n",
    "#         cloud.points = o3d.utility.Vector3dVector(pcd.points)\n",
    "\n",
    "#         o3d.io.write_point_cloud(str(pcd_path), cloud)\n",
    "\n",
    "#         pcd = pypcd.PointCloud.from_path(str(pcd_path))\n",
    "\n",
    "#         data = pcd.pc_data.view(np.float32)\n",
    "#         meta = pcd.get_metadata()\n",
    "#         meta[\"height\"] = self.size[0]\n",
    "#         meta[\"width\"] = self.size[1]\n",
    "\n",
    "#         pcd = pypcd.make_xyz_point_cloud(data, meta)\n",
    "#         pcd.save_pcd(pcd_path)\n",
    "\n",
    "#         return Path(pcd_path)\n",
    "\n",
    "#     def _output_to_labels(self, output_path: Path) -> np.ndarray:\n",
    "#         pcd = pypcd.PointCloud.from_path(output_path)\n",
    "#         raw_colors = pcd.pc_data[\"rgb\"]\n",
    "#         blue = raw_colors % 256\n",
    "#         green = raw_colors // 256 % 256\n",
    "#         red = raw_colors // 256 // 256 % 256\n",
    "#         raw_colors = np.vstack((red, green, blue)).T\n",
    "\n",
    "#         colors = np.zeros(raw_colors.shape[0])\n",
    "\n",
    "#         for n, color in enumerate(np.unique(raw_colors, axis=0)):\n",
    "#             if not color.any():\n",
    "#                 continue\n",
    "\n",
    "#             colors[np.where((raw_colors == color).all(axis=1))] = n + 1\n",
    "\n",
    "#         return colors\n",
    "    \n",
    "#     def _image_to_cloud(self, image_path: str, intrinsics_path: str):\n",
    "#         depth_image = cv2.imread(image_path, cv2.IMREAD_ANYDEPTH)\n",
    "#         intrinsics_matrix = np.loadtxt(intrinsics_path)\n",
    "#         fx, fy = intrinsics_matrix[0, 0], intrinsics_matrix[1, 1] \n",
    "#         cx, cy = intrinsics_matrix[0, 2], intrinsics_matrix[1, 2]\n",
    "        \n",
    "#         points = np.zeros((self.camera_width * self.camera_height, 3))\n",
    "\n",
    "#         column_indices = np.tile(np.arange(self.camera_width), (self.camera_height, 1)).flatten()\n",
    "#         row_indices = np.transpose(np.tile(np.arange(self.camera_height), (self.camera_width, 1))).flatten()\n",
    "\n",
    "#         points[:, 2] = depth_image.flatten()\n",
    "#         points[:, 0] = (column_indices - cx) * points[:, 2] / fx\n",
    "#         points[:, 1] = (row_indices - cy) * points[:, 2] / fy\n",
    "        \n",
    "#         pcd = o3d.geometry.PointCloud()\n",
    "#         pcd.points = o3d.utility.Vector3dVector(points)\n",
    "#         o3d.io.write_point_cloud(self.tmp_cloud_path, pcd)\n",
    "#         return self.tmp_cloud_path\n",
    "\n",
    "#     def _clear_artifacts(self):\n",
    "#         pass\n",
    "# #         rmtree(self._alg_input_dir)\n",
    "# #         rmtree(self._alg_output_dir)"
   ]
  },
  {
   "cell_type": "code",
   "execution_count": 5,
   "id": "dc6eb5b3",
   "metadata": {},
   "outputs": [],
   "source": [
    "# labels = PEAC(\n",
    "#     \"peac_raw:1.0\",\n",
    "#     Path(\"/home/achains/Desktop/metric-experiments/data/depth_0.png\"),\n",
    "#     \"/home/achains/CLionProjects/extractor-benchmark/data/tum/long_office/peac.ini\",\n",
    "#     \"/home/achains/CLionProjects/extractor-benchmark/data/tum/long_office/intrinsics.K\"\n",
    "# ).run()"
   ]
  },
  {
   "cell_type": "markdown",
   "id": "4fcbc02a",
   "metadata": {},
   "source": [
    "## CAPE Runner"
   ]
  },
  {
   "cell_type": "code",
   "execution_count": 6,
   "id": "44fe81f2",
   "metadata": {},
   "outputs": [],
   "source": [
    "class CAPERunner:\n",
    "    def __init__(self, executable_path: str, config_path: str, intrinsics_path: str):\n",
    "        self.executable_path = executable_path\n",
    "        self.config_path = config_path\n",
    "        self.intrinsics_path = intrinsics_path\n",
    "        \n",
    "    def process(self, image_path: str):\n",
    "        input_path = pathlib.Path().cwd() / \"data\"\n",
    "        output_path = pathlib.Path().cwd() / \"output\"\n",
    "        cape_image_path = input_path / \"depth_0.png\"\n",
    "        cape_config_path = input_path / \"config.ini\"\n",
    "        cape_intrinsics_path = input_path / \"calib_params.xml\"\n",
    "        cape_labels_path = output_path / \"labels_0.csv\"\n",
    "        try:\n",
    "            shutil.rmtree(input_path)\n",
    "            shutil.rmtree(output_path)\n",
    "        except:\n",
    "            pass\n",
    "        finally:\n",
    "            os.mkdir(input_path)\n",
    "            os.mkdir(output_path)\n",
    "\n",
    "        # Copy image, config, intrinsics\n",
    "        shutil.copy(image_path, cape_image_path)\n",
    "        shutil.copy(self.config_path, cape_config_path)\n",
    "        shutil.copy(self.intrinsics_path, cape_intrinsics_path)\n",
    "\n",
    "\n",
    "        subprocess.run([self.executable_path, \n",
    "                        str(input_path), \n",
    "                        str(cape_config_path)])\n",
    "\n",
    "\n",
    "        # Transform labels to array\n",
    "        labels_table = np.genfromtxt(cape_labels_path, delimiter=\",\").astype(np.uint8)\n",
    "        labels = labels_table.reshape(labels_table.size)\n",
    "        return labels"
   ]
  },
  {
   "cell_type": "code",
   "execution_count": 7,
   "id": "845936fb",
   "metadata": {},
   "outputs": [],
   "source": [
    "# labels = CAPERunner(\n",
    "#     \"/home/achains/Desktop/plane_detection_dockers/plane-detection-dockers/CAPE/CAPE/build/cape_offline\",\n",
    "#     \"/home/achains/CLionProjects/extractor-benchmark/data/tum/long_office/cape.ini\",\n",
    "#     \"/home/achains/CLionProjects/extractor-benchmark/data/tum/long_office/cape.xml\"\n",
    "# ).process(\n",
    "#     \"/home/achains/Desktop/metric-experiments/data/depth_0.png\"\n",
    "# )"
   ]
  },
  {
   "cell_type": "markdown",
   "id": "29cc4900",
   "metadata": {},
   "source": [
    "## deplex Runner"
   ]
  },
  {
   "cell_type": "code",
   "execution_count": 8,
   "id": "9be46613",
   "metadata": {},
   "outputs": [],
   "source": [
    "class deplexRunner:\n",
    "    def __init__(self, executable_path: str, config_path: str, intrinsics_path: str):\n",
    "        self.executable_path = executable_path\n",
    "        self.config_path = config_path\n",
    "        self.intrinsics_path = intrinsics_path\n",
    "        \n",
    "    def process(self, image_path: str):\n",
    "        output_path = pathlib.Path().cwd() / \"output\"\n",
    "        deplex_labels_path = output_path / \"labels.csv\"\n",
    "        try:\n",
    "            shutil.rmtree(output_path)\n",
    "        except:\n",
    "            pass\n",
    "        finally:\n",
    "            os.mkdir(output_path)\n",
    "\n",
    "\n",
    "        subprocess.run([self.executable_path, \n",
    "                        str(image_path), \n",
    "                        str(self.config_path),\n",
    "                        str(self.intrinsics_path)])\n",
    "\n",
    "        labels = np.genfromtxt(deplex_labels_path, delimiter=\",\").astype(np.uint8)\n",
    "        return labels"
   ]
  },
  {
   "cell_type": "code",
   "execution_count": 9,
   "id": "672107c2",
   "metadata": {},
   "outputs": [],
   "source": [
    "# labels = deplexRunner(\n",
    "#     \"/home/achains/CLionProjects/extractor-benchmark/cmake-build-release/src/deplex_image_processor\",\n",
    "#     \"/home/achains/CLionProjects/extractor-benchmark/data/tum/long_office/deplex.ini\",\n",
    "#     \"/home/achains/CLionProjects/extractor-benchmark/data/tum/long_office/intrinsics.K\"\n",
    "# ).process(\n",
    "#     \"/home/achains/Desktop/metric-experiments/data/depth_0.png\"\n",
    "# )"
   ]
  },
  {
   "cell_type": "markdown",
   "id": "7cfbbb29",
   "metadata": {},
   "source": [
    "## Metric Runner"
   ]
  },
  {
   "cell_type": "code",
   "execution_count": 10,
   "id": "7a2d7d68",
   "metadata": {},
   "outputs": [],
   "source": [
    "def extract_labels_from_image(image_path: str):\n",
    "    \"\"\"\n",
    "    Converts an RGB image to a 2D array of labels\n",
    "\n",
    "    :param image: an RGB image\n",
    "    :return: a NumPy array where different numbers correspond to different colors of the image\n",
    "    \"\"\"\n",
    "    image = cv2.imread(image_path)\n",
    "    reshaped = image.reshape(-1, image.shape[2])\n",
    "    labeled = reshaped[:, 0] * 256**2 + reshaped[:, 1] * 256 + reshaped[:, 2]\n",
    "    return labeled"
   ]
  },
  {
   "cell_type": "code",
   "execution_count": 11,
   "id": "c3d0d9a4",
   "metadata": {},
   "outputs": [],
   "source": [
    "def get_validation_labels(validation_dir: str, image_path: str):\n",
    "    labels_path = pathlib.Path(validation_dir)\n",
    "    label_image_path = labels_path / pathlib.Path(image_path).name\n",
    "    return extract_labels_from_image(str(label_image_path))"
   ]
  },
  {
   "cell_type": "code",
   "execution_count": 12,
   "id": "c7f59287",
   "metadata": {},
   "outputs": [],
   "source": [
    "def run_metrics(dataset_dir, validation_dir, output_dir, algorithm, stop_frame=-1):\n",
    "    if Path(output_dir).exists():\n",
    "        shutil.rmtree(output_dir)\n",
    "    os.mkdir(output_dir)\n",
    "\n",
    "    depth_names = sorted(os.listdir(dataset_dir))\n",
    "\n",
    "    ds_metrics = {}\n",
    "    for i, d_frame in tqdm.tqdm(enumerate(depth_names)):\n",
    "        if stop_frame > -1 and i > stop_frame:\n",
    "            break\n",
    "        labels = algorithm.process(os.path.join(dataset_dir, d_frame))\n",
    "        gt = get_validation_labels(validation_dir, d_frame)\n",
    "        frame_metrics = evops_metrics.full_statistics(labels, gt, evops_metrics.iou, \"iou\")\n",
    "        \n",
    "        for metric_name, metric_value in frame_metrics.items():\n",
    "            if metric_name not in ds_metrics:\n",
    "                ds_metrics[metric_name] = []\n",
    "            ds_metrics[metric_name].append(metric_value)\n",
    "\n",
    "    for metric_name, value_array in ds_metrics.items():\n",
    "        np.save(os.path.join(output_dir, metric_name), np.asarray(value_array))"
   ]
  },
  {
   "cell_type": "markdown",
   "id": "49d83597",
   "metadata": {},
   "source": [
    "### CAPE Ref TUM"
   ]
  },
  {
   "cell_type": "code",
   "execution_count": 15,
   "id": "8ad59949",
   "metadata": {},
   "outputs": [
    {
     "name": "stderr",
     "output_type": "stream",
     "text": [
      "79it [01:14,  1.06it/s]\n"
     ]
    }
   ],
   "source": [
    "run_metrics(\n",
    "    \"/home/achains/Desktop/planeseg-metrics/validation_frames/tum_long_office/validation\",\n",
    "    validation_dir=\"/home/achains/Desktop/datasets/_validation_/tum_long_office/output\",\n",
    "    output_dir=\"cape_ref_tum\",\n",
    "    algorithm=CAPERunner(\n",
    "    \"/home/achains/Desktop/plane_detection_dockers/plane-detection-dockers/CAPE/CAPE/build/cape_offline\",\n",
    "    \"/home/achains/CLionProjects/extractor-benchmark/data/tum/long_office/cape.ini\",\n",
    "    \"/home/achains/CLionProjects/extractor-benchmark/data/tum/long_office/cape.xml\"\n",
    ")\n",
    ")"
   ]
  },
  {
   "cell_type": "markdown",
   "id": "ad337830",
   "metadata": {},
   "source": [
    "### CAPE Ref ICL"
   ]
  },
  {
   "cell_type": "code",
   "execution_count": 16,
   "id": "3d3ecd1e",
   "metadata": {},
   "outputs": [
    {
     "name": "stderr",
     "output_type": "stream",
     "text": [
      "46it [01:27,  1.89s/it]\n"
     ]
    }
   ],
   "source": [
    "run_metrics(\n",
    "    \"/home/achains/Desktop/planeseg-metrics/validation_frames/icl_living_room/validation\",\n",
    "    validation_dir=\"/home/achains/Desktop/datasets/_validation_/icl-living-room_cc/output_cc\",\n",
    "    output_dir=\"cape_ref_icl\",\n",
    "    algorithm=CAPERunner(\n",
    "    \"/home/achains/Desktop/plane_detection_dockers/plane-detection-dockers/CAPE/CAPE/build/cape_offline\",\n",
    "    \"/home/achains/CLionProjects/extractor-benchmark/data/icl/living_room/cape.ini\",\n",
    "    \"/home/achains/CLionProjects/extractor-benchmark/data/icl/living_room/cape.xml\"\n",
    ")\n",
    ")"
   ]
  },
  {
   "cell_type": "markdown",
   "id": "86628498",
   "metadata": {},
   "source": [
    "### CAPE Coarse TUM"
   ]
  },
  {
   "cell_type": "code",
   "execution_count": 20,
   "id": "92608627",
   "metadata": {},
   "outputs": [
    {
     "name": "stderr",
     "output_type": "stream",
     "text": [
      "79it [01:02,  1.26it/s]\n"
     ]
    }
   ],
   "source": [
    "run_metrics(\n",
    "    \"/home/achains/Desktop/planeseg-metrics/validation_frames/tum_long_office/validation\",\n",
    "    validation_dir=\"/home/achains/Desktop/datasets/_validation_/tum_long_office/output\",\n",
    "    output_dir=\"cape_coarse_tum\",\n",
    "    algorithm=CAPERunner(\n",
    "    \"/home/achains/Desktop/plane_detection_dockers/plane-detection-dockers/CAPE/CAPE_COARSE/build/cape_offline\",\n",
    "    \"/home/achains/CLionProjects/extractor-benchmark/data/tum/long_office/cape.ini\",\n",
    "    \"/home/achains/CLionProjects/extractor-benchmark/data/tum/long_office/cape.xml\"\n",
    ")\n",
    ")"
   ]
  },
  {
   "cell_type": "markdown",
   "id": "cc3a24e1",
   "metadata": {},
   "source": [
    "### CAPE Coarse ICL"
   ]
  },
  {
   "cell_type": "code",
   "execution_count": 21,
   "id": "00820f70",
   "metadata": {},
   "outputs": [
    {
     "name": "stderr",
     "output_type": "stream",
     "text": [
      "46it [02:15,  2.94s/it]\n"
     ]
    }
   ],
   "source": [
    "run_metrics(\n",
    "    \"/home/achains/Desktop/planeseg-metrics/validation_frames/icl_living_room/validation\",\n",
    "    validation_dir=\"/home/achains/Desktop/datasets/_validation_/icl-living-room_cc/output_cc\",\n",
    "    output_dir=\"cape_coarse_icl\",\n",
    "    algorithm=CAPERunner(\n",
    "    \"/home/achains/Desktop/plane_detection_dockers/plane-detection-dockers/CAPE/CAPE_COARSE/build/cape_offline\",\n",
    "    \"/home/achains/CLionProjects/extractor-benchmark/data/icl/living_room/cape.ini\",\n",
    "    \"/home/achains/CLionProjects/extractor-benchmark/data/icl/living_room/cape.xml\"\n",
    ")\n",
    ")"
   ]
  },
  {
   "cell_type": "markdown",
   "id": "c941c4f5",
   "metadata": {},
   "source": [
    "## deplex TUM"
   ]
  },
  {
   "cell_type": "code",
   "execution_count": 26,
   "id": "a1e2fc63",
   "metadata": {},
   "outputs": [
    {
     "name": "stderr",
     "output_type": "stream",
     "text": [
      "79it [02:02,  1.55s/it]\n"
     ]
    }
   ],
   "source": [
    "run_metrics(\n",
    "    \"/home/achains/Desktop/planeseg-metrics/validation_frames/tum_long_office/validation\",\n",
    "    validation_dir=\"/home/achains/Desktop/datasets/_validation_/tum_long_office/output\",\n",
    "    output_dir=\"deplex_tum\",\n",
    "    algorithm=deplexRunner(\n",
    "    \"/home/achains/CLionProjects/extractor-benchmark/cmake-build-release/src/deplex_image_processor\",\n",
    "    \"/home/achains/CLionProjects/extractor-benchmark/data/tum/long_office/deplex.ini\",\n",
    "    \"/home/achains/CLionProjects/extractor-benchmark/data/tum/long_office/intrinsics.K\")\n",
    ")"
   ]
  },
  {
   "cell_type": "markdown",
   "id": "8e511617",
   "metadata": {},
   "source": [
    "### deplex ICL"
   ]
  },
  {
   "cell_type": "code",
   "execution_count": 25,
   "id": "053bf967",
   "metadata": {},
   "outputs": [
    {
     "name": "stderr",
     "output_type": "stream",
     "text": [
      "46it [01:48,  2.35s/it]\n"
     ]
    }
   ],
   "source": [
    "run_metrics(\n",
    "    \"/home/achains/Desktop/planeseg-metrics/validation_frames/icl_living_room/validation\",\n",
    "    validation_dir=\"/home/achains/Desktop/datasets/_validation_/icl-living-room_cc/output_cc\",\n",
    "    output_dir=\"deplex_icl\",\n",
    "    algorithm=deplexRunner(\n",
    "    \"/home/achains/CLionProjects/extractor-benchmark/cmake-build-release/src/deplex_image_processor\",\n",
    "    \"/home/achains/CLionProjects/extractor-benchmark/data/icl/living_room/deplex.ini\",\n",
    "    \"/home/achains/CLionProjects/extractor-benchmark/data/icl/living_room/intrinsics.K\")\n",
    ")"
   ]
  },
  {
   "cell_type": "markdown",
   "id": "8ac7ad75",
   "metadata": {},
   "source": [
    "## Result Interpretation"
   ]
  },
  {
   "cell_type": "code",
   "execution_count": 30,
   "id": "31779de5",
   "metadata": {},
   "outputs": [],
   "source": [
    "# METRIC_RESULTS = {\n",
    "#     \"CAPE_REF\": Path(\"/home/achains/CLionProjects/extractor-benchmark/python/metrics/icl_living/cape_ref_icl\"),\n",
    "#     \"CAPE_COARSE\": Path(\"/home/achains/CLionProjects/extractor-benchmark/python/metrics/icl_living/cape_coarse_icl\"),\n",
    "#     \"deplex\": Path(\"/home/achains/CLionProjects/extractor-benchmark/python/metrics/icl_living/deplex_icl\"),\n",
    "# }\n",
    "\n",
    "# METRIC_NAMES = list(filter(\n",
    "#                     lambda fname: fname.endswith(\".npy\"),\n",
    "#                     os.listdir(METRIC_RESULTS[\"CAPE_REF\"])))"
   ]
  },
  {
   "cell_type": "code",
   "execution_count": 20,
   "id": "550a01d2",
   "metadata": {},
   "outputs": [],
   "source": [
    "METRIC_RESULTS = {\n",
    "    \"CAPE_REF\": Path(\"/home/achains/CLionProjects/extractor-benchmark/python/metrics/icl_living/cape_ref_icl\"),\n",
    "    \"CAPE_COARSE\": Path(\"/home/achains/CLionProjects/extractor-benchmark/python/metrics/icl_living/cape_coarse_icl\"),\n",
    "    \"deplex\": Path(\"/home/achains/CLionProjects/extractor-benchmark/python/metrics/icl_living/deplex_icl\"),\n",
    "    \"PEAC_COARSE\": Path(\"/home/achains/CLionProjects/extractor-benchmark/python/metrics/icl_living/peac_coarse_icl\"),\n",
    "    \"PEAC_REF\": Path(\"/home/achains/CLionProjects/extractor-benchmark/python/metrics/icl_living/peac_ref_icl\")\n",
    "    \n",
    "}\n",
    "\n",
    "METRIC_NAMES = list(filter(\n",
    "                    lambda fname: fname.endswith(\".npy\"),\n",
    "                    os.listdir(METRIC_RESULTS[\"CAPE_REF\"])))"
   ]
  },
  {
   "cell_type": "code",
   "execution_count": null,
   "id": "92e65d07",
   "metadata": {},
   "outputs": [],
   "source": [
    "run_metrics(\n",
    "    \"/home/achains/Desktop/planeseg-metrics/validation_frames/tum_long_office/validation\",\n",
    "    validation_dir=\"/home/achains/Desktop/datasets/_validation_/tum_long_office/output\",\n",
    "    output_dir=\"deplex_tum\",\n",
    "    algorithm=deplexRunner(\n",
    "    \"/home/achains/CLionProjects/extractor-benchmark/cmake-build-release/src/deplex_image_processor\",\n",
    "    \"/home/achains/CLionProjects/extractor-benchmark/data/tum/long_office/deplex.ini\",\n",
    "    \"/home/achains/CLionProjects/extractor-benchmark/data/tum/long_office/intrinsics.K\")\n",
    ")"
   ]
  },
  {
   "cell_type": "code",
   "execution_count": 21,
   "id": "b0ab7bf2",
   "metadata": {},
   "outputs": [],
   "source": [
    "def fill_values(algorithm, ds_name, fun, conf=\"custom\"):\n",
    "    algorithm_values = {metric_name: 0.0 for metric_name in METRIC_NAMES}\n",
    "    for metric_name in METRIC_NAMES:\n",
    "        metric_values = np.load(METRIC_RESULTS[algorithm] / metric_name)\n",
    "        algorithm_values[metric_name] = fun(metric_values)\n",
    "    return algorithm_values\n",
    "\n",
    "def dataset_evaluation(ds_name, fun, save_path=os.curdir):\n",
    "    colors = ['brown','pink', 'red', 'green', 'blue', 'cyan','orange','purple']\n",
    "    fig, axes = plt.subplots(3, 3, figsize=(15, 15))\n",
    "\n",
    "    algorithm_values = {\n",
    "        algorithm_name: fill_values(algorithm_name, ds_name, fun) for algorithm_name in METRIC_RESULTS\n",
    "    }\n",
    "    for i, metric_name in enumerate(METRIC_NAMES):\n",
    "        axes[i // 3][i % 3].set_ylim([0.0, 1.0])\n",
    "        labels = sorted(algorithm_values.keys())\n",
    "        values = [algorithm_values[algo_name][metric_name] for algo_name in sorted(algorithm_values.keys())]\n",
    "        barlist = axes[i // 3][i % 3].bar(labels, values)\n",
    "        \n",
    "        for k in range(len(algorithm_values)):\n",
    "            barlist[k].set_color(colors[k])\n",
    "\n",
    "        axes[i // 3][i % 3].set_title(metric_name.rstrip(\".npy\"))\n",
    "        for ax in axes.flat:\n",
    "            ax.label_outer()\n",
    "\n",
    "    fig.suptitle(ds_name, fontweight=\"bold\")\n",
    "    fig.tight_layout()\n",
    "    fig.savefig(f\"{ds_name}.jpg\")"
   ]
  },
  {
   "cell_type": "code",
   "execution_count": 22,
   "id": "94d3d895",
   "metadata": {},
   "outputs": [
    {
     "data": {
      "image/png": "[encoded data removed]",
      "text/plain": [
       "<Figure size 1500x1500 with 9 Axes>"
      ]
     },
     "metadata": {},
     "output_type": "display_data"
    }
   ],
   "source": [
    "dataset_evaluation(\"icl_living\", np.mean)"
   ]
  },
  {
   "cell_type": "code",
   "execution_count": null,
   "id": "31ef0776",
   "metadata": {},
   "outputs": [],
   "source": []
  }
 ],
 "metadata": {
  "kernelspec": {
   "display_name": "venv_algo_runner",
   "language": "python",
   "name": "venv_algo_runner"
  },
  "language_info": {
   "codemirror_mode": {
    "name": "ipython",
    "version": 3
   },
   "file_extension": ".py",
   "mimetype": "text/x-python",
   "name": "python",
   "nbconvert_exporter": "python",
   "pygments_lexer": "ipython3",
   "version": "3.10.6"
  }
 },
 "nbformat": 4,
 "nbformat_minor": 5
}
